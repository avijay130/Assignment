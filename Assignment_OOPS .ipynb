{
 "cells": [
  {
   "cell_type": "code",
   "execution_count": 1,
   "metadata": {},
   "outputs": [
    {
     "name": "stdout",
     "output_type": "stream",
     "text": [
      "u r looking at C\n",
      "u r looking at B\n",
      "u r looking at A\n"
     ]
    }
   ],
   "source": [
    "class A:\n",
    "    def test(self):\n",
    "        print(\"u r looking at A\")\n",
    "\n",
    "class B(A):\n",
    "    def test(self):\n",
    "        print(\"u r looking at B\")\n",
    "        super().test()\n",
    "        \n",
    "class C(B):\n",
    "    def test(self):\n",
    "        print(\"u r looking at C\")\n",
    "        super().test()\n",
    "        \n",
    "        \n",
    "p=C()       \n",
    "p.test()"
   ]
  }
 ],
 "metadata": {
  "kernelspec": {
   "display_name": "Python 3",
   "language": "python",
   "name": "python3"
  },
  "language_info": {
   "codemirror_mode": {
    "name": "ipython",
    "version": 3
   },
   "file_extension": ".py",
   "mimetype": "text/x-python",
   "name": "python",
   "nbconvert_exporter": "python",
   "pygments_lexer": "ipython3",
   "version": "3.7.4"
  }
 },
 "nbformat": 4,
 "nbformat_minor": 4
}
